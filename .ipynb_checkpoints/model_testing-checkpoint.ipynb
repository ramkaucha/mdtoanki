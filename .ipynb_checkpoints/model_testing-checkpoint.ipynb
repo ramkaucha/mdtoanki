{
 "cells": [
  {
   "cell_type": "code",
   "execution_count": null,
   "id": "c4df50e9-7b70-48fb-be01-535e3edf865b",
   "metadata": {},
   "outputs": [],
   "source": [
    "import sys\n",
    "import os\n",
    "\n",
    "from file_handler import read_markdown_file, extract_topic_from_filename\n",
    "from ai_handler import generate_cards_from_content\n",
    "from anki_generator import create_anki_model, create_anki_package\n",
    "from utils import ensure_file_extensions, get_output_path\n",
    "\n",
    "from ai_handler import generate_cards_from_content as original_generate_cards\n",
    "\n",
    "def mock_generate_cards(content, topic=None, num_cards=10):\n",
    "    \"\"\"Mock version of the generate generate_cards_from_content function\"\"\"\n",
    "    print(f\"This is where API would be caled with {topic}, requesting {num_cards} cards\")\n",
    "\n",
    "    return [\n",
    "    "
   ]
  },
  {
   "cell_type": "code",
   "execution_count": null,
   "id": "7ae5fd7c-eb37-4b4d-ad07-f84cce7cc1a1",
   "metadata": {},
   "outputs": [],
   "source": [
    "sample_md = \"\"\"\n",
    "# Machine learning Basics\n",
    "\n",
    "## Supervised Learning\n",
    "Supervised learning is a type of machine learning where the model is trained on labeled data.\n",
    "Examples include:\n",
    "- Classifications\n",
    "- Regression\n",
    "\n",
    "## Unsupervised Learning\n",
    "Unsupervised learning is a type of machine learning where the modal is trained on unlabeld data\n",
    "Examples include:\n",
    "- Clustering\n",
    "- Dimensionality reduction\n",
    "\"\"\"\n",
    "\n"
   ]
  }
 ],
 "metadata": {
  "kernelspec": {
   "display_name": "Python 3 (ipykernel)",
   "language": "python",
   "name": "python3"
  },
  "language_info": {
   "codemirror_mode": {
    "name": "ipython",
    "version": 3
   },
   "file_extension": ".py",
   "mimetype": "text/x-python",
   "name": "python",
   "nbconvert_exporter": "python",
   "pygments_lexer": "ipython3",
   "version": "3.11.5"
  }
 },
 "nbformat": 4,
 "nbformat_minor": 5
}
