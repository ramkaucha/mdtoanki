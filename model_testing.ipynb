{
 "cells": [
  {
   "cell_type": "code",
   "execution_count": null,
   "id": "c4df50e9-7b70-48fb-be01-535e3edf865b",
   "metadata": {},
   "outputs": [],
   "source": [
    "import sys\n",
    "import os\n",
    "\n",
    "from file_handler import read_markdown_file, extract_topic_from_filename\n",
    "from ai_handler import generate_cards_from_content\n",
    "from anki_generator import create_anki_model, create_anki_package\n",
    "from utils import ensure_file_extensions, get_output_path\n",
    "\n",
    "from ai_handler import generate_cards_from_content as original_generate_cards\n",
    "\n",
    "def mock_generate_cards(content, topic=None, num_cards=10):\n",
    "    \"\"\"Mock version of the generate generate_cards_from_content function\"\"\"\n",
    "    print(f\"This is where API would be caled with {topic}, requesting {num_cards} cards\")\n",
    "\n",
    "    return [\n",
    "        { \"question\": \"Mock Question 1?\", \"answer\": \"Mock answer 1\"},\n",
    "        { \"question\": \"Mock Question 2?\", \"answer\": \"Mock answer 2\"}\n",
    "    ]"
   ]
  },
  {
   "cell_type": "code",
   "execution_count": null,
   "id": "7ae5fd7c-eb37-4b4d-ad07-f84cce7cc1a1",
   "metadata": {},
   "outputs": [],
   "source": [
    "sample_md = \"\"\"\n",
    "# Machine learning Basics\n",
    "\n",
    "## Supervised Learning\n",
    "Supervised learning is a type of machine learning where the model is trained on labeled data.\n",
    "Examples include:\n",
    "- Classifications\n",
    "- Regression\n",
    "\n",
    "## Unsupervised Learning\n",
    "Unsupervised learning is a type of machine learning where the modal is trained on unlabeld data\n",
    "Examples include:\n",
    "- Clustering\n",
    "- Dimensionality reduction\n",
    "\"\"\"\n",
    "\n",
    "test_file = \"test_note.md\"\n",
    "with open(test_file, \"w\", encoding=\"utf-8\") as f:\n",
    "    f.write(sample_md)\n",
    "\n",
    "content = read_markdown_file(test_file)\n",
    "topic = extract_topic_from_filename(test_file)\n",
    "\n",
    "print(f\"Extracted topic: {topic}\")\n",
    "print(f\"Content length: {len(content)} characters\")\n",
    "print(f\"Actual content length: {len(sample_md)} characters\")\n",
    "\n",
    "cards = mock_generate_cards(content, topic)\n",
    "print(f\"Generted {len(cards)} mock cards\")\n",
    "\n",
    "output_file = create_anki_package(cards, \"test_output.apkg\", topic)\n",
    "print(f\"Created test Anki package: {output_file}\")\n",
    "\n",
    "output_file = create_anki_package(cards, \"test_output\", topic)\n",
    "print(f\"Created test Anki package: {output_file}\")"
   ]
  },
  {
   "cell_type": "code",
   "execution_count": null,
   "id": "8abfd674-1713-4f57-9751-7301a9bcf527",
   "metadata": {},
   "outputs": [],
   "source": [
    "print(\"\\n==== testing utility functions ====\")\n",
    "\n",
    "test_paths = [\"test\", \"test.apkg\", \"path/to/file\"]\n",
    "for path in test_paths:\n",
    "    res = ensure_file_extensions(path)\n",
    "    print(f\"Path: {path} -> Result: {res}\")\n",
    "\n",
    "test_inputs = [\"notes.md\", \"path/to/topic.md\"]\n",
    "for input_path in test_inputs:\n",
    "    output = get_output_path(input_path)\n",
    "    output_custom = get_output_path(input_path, \"custom_output\")\n",
    "    print(f\"Input: {input_path} -> Default output: {output}\")\n",
    "    print(f\"Input: {input_path} -> Custom output: {output_custom}\")"
   ]
  },
  {
   "cell_type": "code",
   "execution_count": null,
   "id": "bfadce7f-0104-4610-baef-e0d60908e0fa",
   "metadata": {},
   "outputs": [],
   "source": [
    "print(\"\\n==== testing anki creation ====\")\n",
    "\n",
    "model = create_anki_model(\"Test Model\")\n",
    "print(f\"Created model: {model.name} with ID: {model.model_id}\")\n",
    "print(f\"Model has {len(model.fields)} fields and {len(model.templates)} templates\")"
   ]
  },
  {
   "cell_type": "code",
   "execution_count": null,
   "id": "8f4e1e4e-ef2f-4a9e-b3e9-e62eb7be8b1d",
   "metadata": {},
   "outputs": [],
   "source": [
    "print(\"\\n==== testing card generation (mock) ====\")\n",
    "\n",
    "cards = mock_generate_cards(content, topic)\n",
    "print(f\"Genered {len(cards)} mock cards\")"
   ]
  },
  {
   "cell_type": "code",
   "execution_count": null,
   "id": "7ddd6670-b1f3-4d44-82bb-411e092f4304",
   "metadata": {},
   "outputs": [],
   "source": [
    "print(\"\\n==== testing anki package creation ====\")\n",
    "output_file = create_anki_package(cards, \"test_output.apkg\", topic)\n",
    "print(f\"Created test Anki package: {output_file}\")"
   ]
  },
  {
   "cell_type": "code",
   "execution_count": null,
   "id": "2e11cd28-803f-4488-87c0-501ed83c47f0",
   "metadata": {},
   "outputs": [],
   "source": [
    "print(\"\\n==== API Testing ====\")\n",
    "\n",
    "real_cards = generate_cards_from_content(test_file, \"Mini Test\", num_cards=2)\n",
    "print(f\"API returned {len(real_cards)} cards:\")\n",
    "for i, card in enumerate(real_cards, 1):\n",
    "    print(f\"\\nCards {i}:\")\n",
    "    print(f\"Q: {card['question']}\")\n",
    "    print(f\"A: {card['answer']}...\")"
   ]
  }
 ],
 "metadata": {
  "kernelspec": {
   "display_name": "Python 3 (ipykernel)",
   "language": "python",
   "name": "python3"
  },
  "language_info": {
   "codemirror_mode": {
    "name": "ipython",
    "version": 3
   },
   "file_extension": ".py",
   "mimetype": "text/x-python",
   "name": "python",
   "nbconvert_exporter": "python",
   "pygments_lexer": "ipython3",
   "version": "3.11.5"
  }
 },
 "nbformat": 4,
 "nbformat_minor": 5
}
