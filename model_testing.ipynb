{
 "cells": [
  {
   "cell_type": "code",
   "execution_count": 3,
   "id": "c4df50e9-7b70-48fb-be01-535e3edf865b",
   "metadata": {},
   "outputs": [],
   "source": [
    "import sys\n",
    "import os\n",
    "\n",
    "from file_handler import read_markdown_file, extract_topic_from_filename\n",
    "from ai_handler import generate_cards_from_content\n",
    "from anki_generator import create_anki_model, create_anki_package\n",
    "from utils import ensure_file_extensions, get_output_path\n",
    "\n",
    "from ai_handler import generate_cards_from_content as original_generate_cards\n",
    "\n",
    "def mock_generate_cards(content, topic=None, num_cards=10):\n",
    "    \"\"\"Mock version of the generate generate_cards_from_content function\"\"\"\n",
    "    print(f\"This is where API would be caled with {topic}, requesting {num_cards} cards\")\n",
    "\n",
    "    return [\n",
    "        { \"question\": \"Mock Question 1?\", \"answer\": \"Mock answer 1\"},\n",
    "        { \"question\": \"Mock Question 2?\", \"answer\": \"Mock answer 2\"}\n",
    "    ]"
   ]
  },
  {
   "cell_type": "code",
   "execution_count": 6,
   "id": "7ae5fd7c-eb37-4b4d-ad07-f84cce7cc1a1",
   "metadata": {},
   "outputs": [
    {
     "name": "stdout",
     "output_type": "stream",
     "text": [
      "Extracted topic: Test Note\n",
      "Content length: 374 characters\n",
      "Actual content length: 374 characters\n",
      "This is where API would be caled with Test Note, requesting 10 cards\n",
      "Generted 2 mock cards\n",
      "Created test Anki package: test_output.apkg\n"
     ]
    }
   ],
   "source": [
    "sample_md = \"\"\"\n",
    "# Machine learning Basics\n",
    "\n",
    "## Supervised Learning\n",
    "Supervised learning is a type of machine learning where the model is trained on labeled data.\n",
    "Examples include:\n",
    "- Classifications\n",
    "- Regression\n",
    "\n",
    "## Unsupervised Learning\n",
    "Unsupervised learning is a type of machine learning where the modal is trained on unlabeld data\n",
    "Examples include:\n",
    "- Clustering\n",
    "- Dimensionality reduction\n",
    "\"\"\"\n",
    "\n",
    "test_file = \"test_note.md\"\n",
    "with open(test_file, \"w\", encoding=\"utf-8\") as f:\n",
    "    f.write(sample_md)\n",
    "\n",
    "content = read_markdown_file(test_file)\n",
    "topic = extract_topic_from_filename(test_file)\n",
    "\n",
    "print(f\"Extracted topic: {topic}\")\n",
    "print(f\"Content length: {len(content)} characters\")\n",
    "print(f\"Actual content length: {len(sample_md)} characters\")\n",
    "\n",
    "cards = mock_generate_cards(content, topic)\n",
    "print(f\"Generted {len(cards)} mock cards\")\n",
    "\n",
    "output_file = create_anki_package(cards, \"test_output.apkg\", topic)\n",
    "print(f\"Created test Anki package: {output_file}\")\n",
    "\n",
    "output_file = create_anki_package(cards, \"test_output.apkg\", topic)"
   ]
  }
 ],
 "metadata": {
  "kernelspec": {
   "display_name": "Python 3 (ipykernel)",
   "language": "python",
   "name": "python3"
  },
  "language_info": {
   "codemirror_mode": {
    "name": "ipython",
    "version": 3
   },
   "file_extension": ".py",
   "mimetype": "text/x-python",
   "name": "python",
   "nbconvert_exporter": "python",
   "pygments_lexer": "ipython3",
   "version": "3.11.5"
  }
 },
 "nbformat": 4,
 "nbformat_minor": 5
}
